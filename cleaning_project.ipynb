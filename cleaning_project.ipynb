{
 "cells": [
  {
   "cell_type": "code",
   "execution_count": 1,
   "id": "5d6e7237",
   "metadata": {},
   "outputs": [],
   "source": [
    "import pandas as pd \n",
    "import seaborn as sns \n",
    "import matplotlib.pyplot as plt\n",
    "import numpy as np\n",
    "import math \n",
    "import os\n",
    "\n",
    "df= pd.read_csv(\"concatenated_data_2.csv\")\n",
    "df"
   ]
  },
  {
   "cell_type": "markdown",
   "id": "95a536de",
   "metadata": {},
   "source": [
    "### data exploration "
   ]
  },
  {
   "cell_type": "code",
   "execution_count": 3,
   "id": "e63e21f2",
   "metadata": {},
   "outputs": [
    {
     "data": {
      "text/plain": [
       "array(['CLOSED NOW'], dtype=object)"
      ]
     },
     "execution_count": 3,
     "metadata": {},
     "output_type": "execute_result"
    }
   ],
   "source": [
    "df.open_close.unique()\n",
    "df.info()\n",
    "df.describe()\n",
    "df.isna().sum(axis = 0)\n",
    "df.head()"
   ]
  },
  {
   "cell_type": "code",
   "execution_count": 9,
   "id": "e83fc28e",
   "metadata": {},
   "outputs": [],
   "source": [
    "df.rating.replace(np.nan, 0, inplace = True)\n",
    "df.reviews.replace(np.nan, 0, inplace = True)\n",
    "df.reviews = [math.floor(i) for i in df.reviews]"
   ]
  },
  {
   "cell_type": "markdown",
   "id": "eef81dde",
   "metadata": {},
   "source": [
    "### changing dtpypes"
   ]
  },
  {
   "cell_type": "code",
   "execution_count": 15,
   "id": "3eeaac1a",
   "metadata": {},
   "outputs": [
    {
     "data": {
      "text/plain": [
       "0        11\n",
       "1        20\n",
       "2         0\n",
       "3        15\n",
       "4       174\n",
       "       ... \n",
       "1615      0\n",
       "1616     13\n",
       "1617      0\n",
       "1618      3\n",
       "1619      6\n",
       "Name: reviews, Length: 1620, dtype: int64"
      ]
     },
     "execution_count": 15,
     "metadata": {},
     "output_type": "execute_result"
    }
   ],
   "source": [
    "df.reviews.astype(\"int\")\n",
    "df.rating = pd.to_numeric(df.rating)\n",
    "df.phone.astype(\"str\")\n",
    "df[\"price range\"].astype(\"str\")\n",
    "df.open_close.astype(\"str\")"
   ]
  },
  {
   "cell_type": "code",
   "execution_count": 30,
   "id": "9dfa05b0",
   "metadata": {},
   "outputs": [
    {
     "data": {
      "text/html": [
       "<div>\n",
       "<style scoped>\n",
       "    .dataframe tbody tr th:only-of-type {\n",
       "        vertical-align: middle;\n",
       "    }\n",
       "\n",
       "    .dataframe tbody tr th {\n",
       "        vertical-align: top;\n",
       "    }\n",
       "\n",
       "    .dataframe thead th {\n",
       "        text-align: right;\n",
       "    }\n",
       "</style>\n",
       "<table border=\"1\" class=\"dataframe\">\n",
       "  <thead>\n",
       "    <tr style=\"text-align: right;\">\n",
       "      <th></th>\n",
       "      <th>address</th>\n",
       "    </tr>\n",
       "    <tr>\n",
       "      <th>location</th>\n",
       "      <th></th>\n",
       "    </tr>\n",
       "  </thead>\n",
       "  <tbody>\n",
       "    <tr>\n",
       "      <th>Los Angeles, CA 90005</th>\n",
       "      <td>108</td>\n",
       "    </tr>\n",
       "    <tr>\n",
       "      <th>Los Angeles, CA 90010</th>\n",
       "      <td>54</td>\n",
       "    </tr>\n",
       "    <tr>\n",
       "      <th>Los Angeles, CA 90012</th>\n",
       "      <td>216</td>\n",
       "    </tr>\n",
       "    <tr>\n",
       "      <th>Los Angeles, CA 90013</th>\n",
       "      <td>108</td>\n",
       "    </tr>\n",
       "    <tr>\n",
       "      <th>Los Angeles, CA 90014</th>\n",
       "      <td>54</td>\n",
       "    </tr>\n",
       "    <tr>\n",
       "      <th>Los Angeles, CA 90020</th>\n",
       "      <td>162</td>\n",
       "    </tr>\n",
       "    <tr>\n",
       "      <th>Los Angeles, CA 90021</th>\n",
       "      <td>54</td>\n",
       "    </tr>\n",
       "    <tr>\n",
       "      <th>Los Angeles, CA 90025</th>\n",
       "      <td>54</td>\n",
       "    </tr>\n",
       "    <tr>\n",
       "      <th>Los Angeles, CA 90026</th>\n",
       "      <td>54</td>\n",
       "    </tr>\n",
       "    <tr>\n",
       "      <th>Los Angeles, CA 90027</th>\n",
       "      <td>162</td>\n",
       "    </tr>\n",
       "    <tr>\n",
       "      <th>Los Angeles, CA 90028</th>\n",
       "      <td>54</td>\n",
       "    </tr>\n",
       "    <tr>\n",
       "      <th>Los Angeles, CA 90032</th>\n",
       "      <td>54</td>\n",
       "    </tr>\n",
       "    <tr>\n",
       "      <th>Los Angeles, CA 90033</th>\n",
       "      <td>54</td>\n",
       "    </tr>\n",
       "    <tr>\n",
       "      <th>Los Angeles, CA 90036</th>\n",
       "      <td>54</td>\n",
       "    </tr>\n",
       "    <tr>\n",
       "      <th>Los Angeles, CA 90039</th>\n",
       "      <td>162</td>\n",
       "    </tr>\n",
       "    <tr>\n",
       "      <th>Los Angeles, CA 90041</th>\n",
       "      <td>54</td>\n",
       "    </tr>\n",
       "    <tr>\n",
       "      <th>Los Angeles, CA 90042</th>\n",
       "      <td>54</td>\n",
       "    </tr>\n",
       "    <tr>\n",
       "      <th>Los Angeles, CA 90045</th>\n",
       "      <td>54</td>\n",
       "    </tr>\n",
       "    <tr>\n",
       "      <th>Los Angeles, CA 90046</th>\n",
       "      <td>54</td>\n",
       "    </tr>\n",
       "  </tbody>\n",
       "</table>\n",
       "</div>"
      ],
      "text/plain": [
       "                       address\n",
       "location                      \n",
       "Los Angeles, CA 90005      108\n",
       "Los Angeles, CA 90010       54\n",
       "Los Angeles, CA 90012      216\n",
       "Los Angeles, CA 90013      108\n",
       "Los Angeles, CA 90014       54\n",
       "Los Angeles, CA 90020      162\n",
       "Los Angeles, CA 90021       54\n",
       "Los Angeles, CA 90025       54\n",
       "Los Angeles, CA 90026       54\n",
       "Los Angeles, CA 90027      162\n",
       "Los Angeles, CA 90028       54\n",
       "Los Angeles, CA 90032       54\n",
       "Los Angeles, CA 90033       54\n",
       "Los Angeles, CA 90036       54\n",
       "Los Angeles, CA 90039      162\n",
       "Los Angeles, CA 90041       54\n",
       "Los Angeles, CA 90042       54\n",
       "Los Angeles, CA 90045       54\n",
       "Los Angeles, CA 90046       54"
      ]
     },
     "execution_count": 30,
     "metadata": {},
     "output_type": "execute_result"
    }
   ],
   "source": [
    "#rep: how many cafés per area\n",
    "cafe_area = df.groupby(\"location\")[[\"address\"]].count()\n",
    "cafe_area"
   ]
  },
  {
   "cell_type": "markdown",
   "id": "5834be0a",
   "metadata": {},
   "source": [
    "### handling missing values "
   ]
  },
  {
   "cell_type": "code",
   "execution_count": 31,
   "id": "6159d8d1",
   "metadata": {},
   "outputs": [],
   "source": [
    "df.category.fillna(\"Not categorized\", inplace = True)\n",
    "df[\"price range\"].fillna(\"-\", inplace = True)"
   ]
  },
  {
   "cell_type": "code",
   "execution_count": 35,
   "id": "778ee865",
   "metadata": {},
   "outputs": [],
   "source": [
    "df.open_close = df.open_close.str.replace(\"OPEN 24 Hours\", \"Open 24 Hours\")\n",
    "df.open_close = df.open_close.str.replace(\"CLOSED NOW\", \"Closed Now\")\n",
    "df.open_close = df.open_close.str.replace(\"OPEN NOW\", \"Open Now\")\n",
    "df.fillna(\"Undetermined\", inplace = True)"
   ]
  },
  {
   "cell_type": "markdown",
   "id": "1eebe4eb",
   "metadata": {},
   "source": [
    "### defining and arranging categorical columns"
   ]
  },
  {
   "cell_type": "code",
   "execution_count": null,
   "id": "6fc837d9",
   "metadata": {},
   "outputs": [],
   "source": [
    "def extract_location(location):\n",
    "    city, state_postal = location.split(', ')\n",
    "    state, postal = state_postal.split(' ')\n",
    "    return city, state, postal\n",
    "\n",
    "# Apply the extract_location function to the location column\n",
    "#df['location'].apply(extract_location).apply(pd.Series)\n",
    "\n",
    "[extract_location(i) for i in df.location]\n",
    "\n",
    "city = []\n",
    "state = []\n",
    "postal = []\n",
    "\n",
    "for x,y,z in [extract_location(i) for i in df.location]:\n",
    "    city.append(x)\n",
    "    state.append(y)\n",
    "    postal.append(z)\n",
    "    \n",
    "df[\"city\"] = city\n",
    "df[\"state\"] = state\n",
    "df[\"postal\"] = postal \n",
    "\n",
    "df.postal.astype(\"int\")"
   ]
  },
  {
   "cell_type": "code",
   "execution_count": 37,
   "id": "f88532ce",
   "metadata": {},
   "outputs": [],
   "source": [
    "#function to categorize according to prices and create new column\n",
    "\n",
    "def prices(string):\n",
    "    if string == \"$\":\n",
    "        return \"Cheap Eats\"\n",
    "    elif string == \"$$\":\n",
    "        return \"Mid-range\"\n",
    "    elif string == \"$$$\":\n",
    "        return \"Fine Dining\"\n",
    "    else:\n",
    "        return \"Not categorized\"\n",
    "\n",
    "#new rating system, stars rating \n",
    "df['stars rating'] = [round(i/2) for i in df.rating]"
   ]
  },
  {
   "cell_type": "markdown",
   "id": "11a604f8",
   "metadata": {},
   "source": [
    "### create `new df` for the different categories "
   ]
  },
  {
   "cell_type": "code",
   "execution_count": 39,
   "id": "59e748df",
   "metadata": {},
   "outputs": [],
   "source": [
    "category_prices = [prices(i) for i in df[\"price range\"]]\n",
    "df[\"categorical prices\"] = category_prices"
   ]
  },
  {
   "cell_type": "code",
   "execution_count": 41,
   "id": "37953520",
   "metadata": {},
   "outputs": [],
   "source": [
    "bakeries = df.loc[df.category.str.contains(\"Bakeries\")]\n",
    "familiar = df.loc[df.category.str.contains(\"Family Style\")]\n",
    "take_out = df.loc[df.category.str.contains(\"Take Out\")]\n",
    "open_24 = df.loc[df.open_close == 'Open 24 Hours']\n",
    "dining = df.loc[df[\"categorical prices\"] == \"Fine Dining\"]"
   ]
  },
  {
   "cell_type": "code",
   "execution_count": 46,
   "id": "cd87eb52",
   "metadata": {},
   "outputs": [
    {
     "data": {
      "text/plain": [
       "Swork Coffee                   54\n",
       "Groundwork Coffee Co.          54\n",
       "Caffe Vita                     54\n",
       "Caffe Bene                     54\n",
       "Cafe De Leche                  54\n",
       "Klat                           54\n",
       "Blue Bottle Coffee             54\n",
       "Groundwork Coffee              54\n",
       "Iota Brew Cafe                 54\n",
       "Cafe Loft                      54\n",
       "Sul N Beans                    54\n",
       "Holy Grounds Coffee & Tea      54\n",
       "Cafe Demitasse                 54\n",
       "Cafe Dulce                     54\n",
       "Kaldi Coffee & Tea             54\n",
       "Starbucks Coffee               54\n",
       "Urth Caffe                     54\n",
       "Bon Vivant Market & Cafe       54\n",
       "Broome Street General Store    54\n",
       "Suehiro Cafe                   54\n",
       "Stumptown Coffee               54\n",
       "Pann's Restaurant              54\n",
       "Haus by coffee hunter          54\n",
       "Alterations at Nordstrom       54\n",
       "House of Pies                  54\n",
       "Lazy Daisy Cafe                54\n",
       "Figaro Bistrot                 54\n",
       "The Coffee Bean & Tea Leaf     54\n",
       "Primera Taza Coffee House      54\n",
       "Verve Coffee Roasters          54\n",
       "Name: address, dtype: int64"
      ]
     },
     "execution_count": 46,
     "metadata": {},
     "output_type": "execute_result"
    }
   ],
   "source": [
    "df[\"address\"].value_counts()"
   ]
  },
  {
   "cell_type": "code",
   "execution_count": 47,
   "id": "009dce97",
   "metadata": {},
   "outputs": [
    {
     "data": {
      "text/plain": [
       "3.3333333333333335"
      ]
     },
     "execution_count": 47,
     "metadata": {},
     "output_type": "execute_result"
    }
   ],
   "source": [
    "#percentage of starbucks stablishments in the city \n",
    "df[\"address\"].value_counts()[0]/len(df)*100"
   ]
  },
  {
   "cell_type": "code",
   "execution_count": 83,
   "id": "2aff2e71",
   "metadata": {},
   "outputs": [
    {
     "data": {
      "text/plain": [
       "Cheap Eats         648\n",
       "Mid-range          540\n",
       "Not categorized    378\n",
       "Fine Dining         54\n",
       "Name: categorical prices, dtype: int64"
      ]
     },
     "execution_count": 83,
     "metadata": {},
     "output_type": "execute_result"
    }
   ],
   "source": [
    "df[\"open_close\"].value_counts(normalize = True)\n",
    "df[\"categorical prices\"].value_counts()"
   ]
  },
  {
   "cell_type": "code",
   "execution_count": 51,
   "id": "758d0b67",
   "metadata": {},
   "outputs": [
    {
     "data": {
      "text/plain": [
       "Cheap Eats         0.400000\n",
       "Mid-range          0.333333\n",
       "Not categorized    0.233333\n",
       "Fine Dining        0.033333\n",
       "Name: categorical prices, dtype: float64"
      ]
     },
     "execution_count": 51,
     "metadata": {},
     "output_type": "execute_result"
    }
   ],
   "source": [
    "df[\"categorical prices\"].value_counts(normalize = True)"
   ]
  },
  {
   "cell_type": "markdown",
   "id": "d508d286",
   "metadata": {},
   "source": [
    "## `Data` visualizations"
   ]
  },
  {
   "cell_type": "code",
   "execution_count": 52,
   "id": "3640d3dc",
   "metadata": {},
   "outputs": [
    {
     "data": {
      "image/png": "[encoded data removed]",
      "text/plain": [
       "<Figure size 640x480 with 1 Axes>"
      ]
     },
     "metadata": {},
     "output_type": "display_data"
    }
   ],
   "source": [
    "# plotting categorical prices using matplotlib\n",
    "labels = ['Cheap Eats', 'Not categorized', 'Mid-range', 'Fine Dining']\n",
    "sizes = [0.402020, 0.364646, 0.225253, 0.008081]\n",
    "\n",
    "fig1, ax1 = plt.subplots()\n",
    "ax1.pie(sizes, labels=labels, autopct='%1.1f%%', shadow=True)\n",
    "ax1.axis('equal')\n",
    "\n",
    "plt.show()"
   ]
  },
  {
   "cell_type": "code",
   "execution_count": 53,
   "id": "51d8ca6e",
   "metadata": {},
   "outputs": [
    {
     "data": {
      "text/html": [
       "<div>\n",
       "<style scoped>\n",
       "    .dataframe tbody tr th:only-of-type {\n",
       "        vertical-align: middle;\n",
       "    }\n",
       "\n",
       "    .dataframe tbody tr th {\n",
       "        vertical-align: top;\n",
       "    }\n",
       "\n",
       "    .dataframe thead th {\n",
       "        text-align: right;\n",
       "    }\n",
       "</style>\n",
       "<table border=\"1\" class=\"dataframe\">\n",
       "  <thead>\n",
       "    <tr style=\"text-align: right;\">\n",
       "      <th></th>\n",
       "      <th></th>\n",
       "      <th>categorical prices</th>\n",
       "    </tr>\n",
       "    <tr>\n",
       "      <th>city</th>\n",
       "      <th>categorical prices</th>\n",
       "      <th></th>\n",
       "    </tr>\n",
       "  </thead>\n",
       "  <tbody>\n",
       "    <tr>\n",
       "      <th rowspan=\"4\" valign=\"top\">Los Angeles</th>\n",
       "      <th>Cheap Eats</th>\n",
       "      <td>648</td>\n",
       "    </tr>\n",
       "    <tr>\n",
       "      <th>Fine Dining</th>\n",
       "      <td>54</td>\n",
       "    </tr>\n",
       "    <tr>\n",
       "      <th>Mid-range</th>\n",
       "      <td>540</td>\n",
       "    </tr>\n",
       "    <tr>\n",
       "      <th>Not categorized</th>\n",
       "      <td>378</td>\n",
       "    </tr>\n",
       "  </tbody>\n",
       "</table>\n",
       "</div>"
      ],
      "text/plain": [
       "                                categorical prices\n",
       "city        categorical prices                    \n",
       "Los Angeles Cheap Eats                         648\n",
       "            Fine Dining                         54\n",
       "            Mid-range                          540\n",
       "            Not categorized                    378"
      ]
     },
     "execution_count": 53,
     "metadata": {},
     "output_type": "execute_result"
    }
   ],
   "source": [
    "#rep: how many cafés per area\n",
    "df.groupby([\"city\", \"categorical prices\"])[[\"categorical prices\"]].count()"
   ]
  },
  {
   "cell_type": "markdown",
   "id": "8746e53e",
   "metadata": {},
   "source": [
    "### extracting information  about the best starbucks coffee places around the city "
   ]
  },
  {
   "cell_type": "code",
   "execution_count": 84,
   "id": "0a9071f3",
   "metadata": {},
   "outputs": [
    {
     "data": {
      "text/html": [
       "<div>\n",
       "<style scoped>\n",
       "    .dataframe tbody tr th:only-of-type {\n",
       "        vertical-align: middle;\n",
       "    }\n",
       "\n",
       "    .dataframe tbody tr th {\n",
       "        vertical-align: top;\n",
       "    }\n",
       "\n",
       "    .dataframe thead th {\n",
       "        text-align: right;\n",
       "    }\n",
       "</style>\n",
       "<table border=\"1\" class=\"dataframe\">\n",
       "  <thead>\n",
       "    <tr style=\"text-align: right;\">\n",
       "      <th></th>\n",
       "      <th>address</th>\n",
       "      <th>location</th>\n",
       "      <th>category</th>\n",
       "      <th>open_close</th>\n",
       "      <th>phone</th>\n",
       "      <th>price range</th>\n",
       "      <th>reviews</th>\n",
       "      <th>rating</th>\n",
       "      <th>review</th>\n",
       "      <th>city</th>\n",
       "      <th>state</th>\n",
       "      <th>postal</th>\n",
       "      <th>stars rating</th>\n",
       "      <th>categorical prices</th>\n",
       "      <th>neg</th>\n",
       "      <th>neu</th>\n",
       "      <th>pos</th>\n",
       "      <th>compound</th>\n",
       "    </tr>\n",
       "  </thead>\n",
       "  <tbody>\n",
       "    <tr>\n",
       "      <th>15</th>\n",
       "      <td>Starbucks Coffee</td>\n",
       "      <td>Los Angeles, CA 90026</td>\n",
       "      <td>Coffee &amp; Espresso Restaurants</td>\n",
       "      <td>Closed Now</td>\n",
       "      <td>(213) 431-5969</td>\n",
       "      <td>-</td>\n",
       "      <td>0</td>\n",
       "      <td>8.0</td>\n",
       "      <td>Always friendly and coffee is always the best....</td>\n",
       "      <td>Los Angeles</td>\n",
       "      <td>CA</td>\n",
       "      <td>90026</td>\n",
       "      <td>4</td>\n",
       "      <td>Not categorized</td>\n",
       "      <td>0.0</td>\n",
       "      <td>0.726</td>\n",
       "      <td>0.274</td>\n",
       "      <td>0.8271</td>\n",
       "    </tr>\n",
       "    <tr>\n",
       "      <th>45</th>\n",
       "      <td>Starbucks Coffee</td>\n",
       "      <td>Los Angeles, CA 90026</td>\n",
       "      <td>Coffee &amp; Espresso Restaurants</td>\n",
       "      <td>Closed Now</td>\n",
       "      <td>(213) 431-5969</td>\n",
       "      <td>-</td>\n",
       "      <td>0</td>\n",
       "      <td>8.0</td>\n",
       "      <td>Always friendly and coffee is always the best....</td>\n",
       "      <td>Los Angeles</td>\n",
       "      <td>CA</td>\n",
       "      <td>90026</td>\n",
       "      <td>4</td>\n",
       "      <td>Not categorized</td>\n",
       "      <td>0.0</td>\n",
       "      <td>0.726</td>\n",
       "      <td>0.274</td>\n",
       "      <td>0.8271</td>\n",
       "    </tr>\n",
       "    <tr>\n",
       "      <th>75</th>\n",
       "      <td>Starbucks Coffee</td>\n",
       "      <td>Los Angeles, CA 90026</td>\n",
       "      <td>Coffee &amp; Espresso Restaurants</td>\n",
       "      <td>Closed Now</td>\n",
       "      <td>(213) 431-5969</td>\n",
       "      <td>-</td>\n",
       "      <td>0</td>\n",
       "      <td>8.0</td>\n",
       "      <td>Always friendly and coffee is always the best....</td>\n",
       "      <td>Los Angeles</td>\n",
       "      <td>CA</td>\n",
       "      <td>90026</td>\n",
       "      <td>4</td>\n",
       "      <td>Not categorized</td>\n",
       "      <td>0.0</td>\n",
       "      <td>0.726</td>\n",
       "      <td>0.274</td>\n",
       "      <td>0.8271</td>\n",
       "    </tr>\n",
       "  </tbody>\n",
       "</table>\n",
       "</div>"
      ],
      "text/plain": [
       "             address               location                       category  \\\n",
       "15  Starbucks Coffee  Los Angeles, CA 90026  Coffee & Espresso Restaurants   \n",
       "45  Starbucks Coffee  Los Angeles, CA 90026  Coffee & Espresso Restaurants   \n",
       "75  Starbucks Coffee  Los Angeles, CA 90026  Coffee & Espresso Restaurants   \n",
       "\n",
       "    open_close           phone price range  reviews  rating  \\\n",
       "15  Closed Now  (213) 431-5969           -        0     8.0   \n",
       "45  Closed Now  (213) 431-5969           -        0     8.0   \n",
       "75  Closed Now  (213) 431-5969           -        0     8.0   \n",
       "\n",
       "                                               review         city state  \\\n",
       "15  Always friendly and coffee is always the best....  Los Angeles    CA   \n",
       "45  Always friendly and coffee is always the best....  Los Angeles    CA   \n",
       "75  Always friendly and coffee is always the best....  Los Angeles    CA   \n",
       "\n",
       "   postal  stars rating categorical prices  neg    neu    pos  compound  \n",
       "15  90026             4    Not categorized  0.0  0.726  0.274    0.8271  \n",
       "45  90026             4    Not categorized  0.0  0.726  0.274    0.8271  \n",
       "75  90026             4    Not categorized  0.0  0.726  0.274    0.8271  "
      ]
     },
     "execution_count": 84,
     "metadata": {},
     "output_type": "execute_result"
    }
   ],
   "source": [
    "starbucks  = df.loc[df.address == \"Starbucks Coffee\"]\n",
    "starbucks.sort_values(by=['reviews', 'rating'], ascending=False).nlargest(3, \"reviews\")"
   ]
  },
  {
   "cell_type": "code",
   "execution_count": 60,
   "id": "0cd23814",
   "metadata": {},
   "outputs": [],
   "source": [
    "#pip install nltk\n",
    "#nltk.download('punkt')\n",
    "#nltk.download('averaged_perceptron_tagger')\n",
    "#nltk.download('maxent_ne_chunker')\n",
    "#nltk.download('words')\n",
    "#nltk.downloader.download('vader_lexicon')\n",
    "import nltk\n",
    "plt.style.use(\"ggplot\")\n"
   ]
  },
  {
   "cell_type": "code",
   "execution_count": 62,
   "id": "3f951352",
   "metadata": {},
   "outputs": [
    {
     "data": {
      "text/plain": [
       "['I',\n",
       " 'am',\n",
       " 'about',\n",
       " 'half',\n",
       " 'way',\n",
       " 'through',\n",
       " 'tasting',\n",
       " 'EVERYTHING',\n",
       " 'on',\n",
       " 'the']"
      ]
     },
     "execution_count": 62,
     "metadata": {},
     "output_type": "execute_result"
    }
   ],
   "source": [
    "df.review[2]\n",
    "tokens = nltk.word_tokenize(df.review[2])\n",
    "tokens[:10]"
   ]
  },
  {
   "cell_type": "code",
   "execution_count": 63,
   "id": "bc0fa6ec",
   "metadata": {},
   "outputs": [
    {
     "data": {
      "text/plain": [
       "[('I', 'PRP'),\n",
       " ('am', 'VBP'),\n",
       " ('about', 'IN'),\n",
       " ('half', 'JJ'),\n",
       " ('way', 'NN'),\n",
       " ('through', 'IN'),\n",
       " ('tasting', 'VBG'),\n",
       " ('EVERYTHING', 'NN'),\n",
       " ('on', 'IN'),\n",
       " ('the', 'DT')]"
      ]
     },
     "execution_count": 63,
     "metadata": {},
     "output_type": "execute_result"
    }
   ],
   "source": [
    "tagged = nltk.pos_tag(tokens)\n",
    "tagged[:10]"
   ]
  },
  {
   "cell_type": "code",
   "execution_count": 64,
   "id": "c6d9ccb0",
   "metadata": {
    "scrolled": true
   },
   "outputs": [
    {
     "name": "stdout",
     "output_type": "stream",
     "text": [
      "(S\n",
      "  I/PRP\n",
      "  am/VBP\n",
      "  about/IN\n",
      "  half/JJ\n",
      "  way/NN\n",
      "  through/IN\n",
      "  tasting/VBG\n",
      "  EVERYTHING/NN\n",
      "  on/IN\n",
      "  the/DT\n",
      "  menu/NN\n",
      "  ./.\n",
      "  No/DT\n",
      "  regrets/NN\n",
      "  !/.\n",
      "  One/CD\n",
      "  of/IN\n",
      "  my/PRP$\n",
      "  favorites/NNS\n",
      "  ..../VBP\n",
      "  the/DT\n",
      "  passion/NN\n",
      "  fruit/NN\n",
      "  latte/NN\n",
      "  ./.\n",
      "  Delicious/JJ\n",
      "  !/.\n",
      "  Oh/UH\n",
      "  ,/,\n",
      "  and/CC\n",
      "  by/IN\n",
      "  the…/NN)\n"
     ]
    }
   ],
   "source": [
    "entities = nltk.chunk.ne_chunk(tagged)\n",
    "entities.pprint()"
   ]
  },
  {
   "cell_type": "code",
   "execution_count": 85,
   "id": "0998573c",
   "metadata": {},
   "outputs": [
    {
     "name": "stdout",
     "output_type": "stream",
     "text": [
      "{'neg': 0.451, 'neu': 0.549, 'pos': 0.0, 'compound': -0.6249}\n"
     ]
    }
   ],
   "source": [
    "from nltk.classify import NaiveBayesClassifier\n",
    "from nltk.corpus import subjectivity\n",
    "from nltk.sentiment import SentimentAnalyzer\n",
    "from nltk.sentiment.vader import SentimentIntensityAnalyzer\n",
    "from tqdm.notebook import tqdm\n",
    "#nltk.download('popular')\n",
    "\n",
    "sid = SentimentIntensityAnalyzer()\n",
    "#sentiment = sid.polarity_scores(\"This is the worst thing ever\")\n",
    "#print(sentiment)"
   ]
  },
  {
   "cell_type": "code",
   "execution_count": 68,
   "id": "f24f872f",
   "metadata": {},
   "outputs": [
    {
     "data": {
      "application/vnd.jupyter.widget-view+json": {
       "model_id": "8c5fba8ceaba4abd804582180a8166d6",
       "version_major": 2,
       "version_minor": 0
      },
      "text/plain": [
       "  0%|          | 0/1620 [00:00<?, ?it/s]"
      ]
     },
     "metadata": {},
     "output_type": "display_data"
    }
   ],
   "source": [
    "res = {}\n",
    "for i, row in tqdm(df.iterrows(), total = len(df)):\n",
    "    text = row[\"review\"]\n",
    "    myid = row[\"address\"]\n",
    "    res[myid] = sid.polarity_scores(text)\n"
   ]
  },
  {
   "cell_type": "code",
   "execution_count": 69,
   "id": "4c9016bc",
   "metadata": {},
   "outputs": [
    {
     "data": {
      "text/html": [
       "<div>\n",
       "<style scoped>\n",
       "    .dataframe tbody tr th:only-of-type {\n",
       "        vertical-align: middle;\n",
       "    }\n",
       "\n",
       "    .dataframe tbody tr th {\n",
       "        vertical-align: top;\n",
       "    }\n",
       "\n",
       "    .dataframe thead th {\n",
       "        text-align: right;\n",
       "    }\n",
       "</style>\n",
       "<table border=\"1\" class=\"dataframe\">\n",
       "  <thead>\n",
       "    <tr style=\"text-align: right;\">\n",
       "      <th></th>\n",
       "      <th>address</th>\n",
       "      <th>location</th>\n",
       "      <th>category</th>\n",
       "      <th>open_close</th>\n",
       "      <th>phone</th>\n",
       "      <th>price range</th>\n",
       "      <th>reviews</th>\n",
       "      <th>rating</th>\n",
       "      <th>review</th>\n",
       "      <th>city</th>\n",
       "      <th>state</th>\n",
       "      <th>postal</th>\n",
       "      <th>stars rating</th>\n",
       "      <th>categorical prices</th>\n",
       "      <th>neg</th>\n",
       "      <th>neu</th>\n",
       "      <th>pos</th>\n",
       "      <th>compound</th>\n",
       "    </tr>\n",
       "  </thead>\n",
       "  <tbody>\n",
       "    <tr>\n",
       "      <th>0</th>\n",
       "      <td>Swork Coffee</td>\n",
       "      <td>Los Angeles, CA 90041</td>\n",
       "      <td>Coffee &amp; Espresso Restaurants</td>\n",
       "      <td>Closed Now</td>\n",
       "      <td>(323) 258-5600</td>\n",
       "      <td>$$</td>\n",
       "      <td>11</td>\n",
       "      <td>7.3</td>\n",
       "      <td>Very nice coffees and service</td>\n",
       "      <td>Los Angeles</td>\n",
       "      <td>CA</td>\n",
       "      <td>90041</td>\n",
       "      <td>4</td>\n",
       "      <td>Mid-range</td>\n",
       "      <td>0.000</td>\n",
       "      <td>0.564</td>\n",
       "      <td>0.436</td>\n",
       "      <td>0.4754</td>\n",
       "    </tr>\n",
       "    <tr>\n",
       "      <th>1</th>\n",
       "      <td>Groundwork Coffee Co.</td>\n",
       "      <td>Los Angeles, CA 90028</td>\n",
       "      <td>Coffee &amp; Espresso Restaurants</td>\n",
       "      <td>Closed Now</td>\n",
       "      <td>(323) 871-0143</td>\n",
       "      <td>$</td>\n",
       "      <td>20</td>\n",
       "      <td>7.6</td>\n",
       "      <td>This is one of the best coffee places in the c...</td>\n",
       "      <td>Los Angeles</td>\n",
       "      <td>CA</td>\n",
       "      <td>90028</td>\n",
       "      <td>4</td>\n",
       "      <td>Cheap Eats</td>\n",
       "      <td>0.000</td>\n",
       "      <td>0.714</td>\n",
       "      <td>0.286</td>\n",
       "      <td>0.8481</td>\n",
       "    </tr>\n",
       "    <tr>\n",
       "      <th>2</th>\n",
       "      <td>Primera Taza Coffee House</td>\n",
       "      <td>Los Angeles, CA 90033</td>\n",
       "      <td>Coffee &amp; Espresso Restaurants</td>\n",
       "      <td>Closed Now</td>\n",
       "      <td>(323) 780-3923</td>\n",
       "      <td>$</td>\n",
       "      <td>0</td>\n",
       "      <td>0.0</td>\n",
       "      <td>I am about half way through tasting EVERYTHING...</td>\n",
       "      <td>Los Angeles</td>\n",
       "      <td>CA</td>\n",
       "      <td>90033</td>\n",
       "      <td>0</td>\n",
       "      <td>Cheap Eats</td>\n",
       "      <td>0.147</td>\n",
       "      <td>0.625</td>\n",
       "      <td>0.228</td>\n",
       "      <td>0.5550</td>\n",
       "    </tr>\n",
       "    <tr>\n",
       "      <th>3</th>\n",
       "      <td>The Coffee Bean &amp; Tea Leaf</td>\n",
       "      <td>Los Angeles, CA 90046</td>\n",
       "      <td>Coffee &amp; Espresso Restaurants</td>\n",
       "      <td>Closed Now</td>\n",
       "      <td>(323) 851-8392</td>\n",
       "      <td>$</td>\n",
       "      <td>15</td>\n",
       "      <td>0.0</td>\n",
       "      <td>Great place, decent prices, good parking. I en...</td>\n",
       "      <td>Los Angeles</td>\n",
       "      <td>CA</td>\n",
       "      <td>90046</td>\n",
       "      <td>0</td>\n",
       "      <td>Cheap Eats</td>\n",
       "      <td>0.000</td>\n",
       "      <td>0.374</td>\n",
       "      <td>0.626</td>\n",
       "      <td>0.9246</td>\n",
       "    </tr>\n",
       "    <tr>\n",
       "      <th>4</th>\n",
       "      <td>Figaro Bistrot</td>\n",
       "      <td>Los Angeles, CA 90027</td>\n",
       "      <td>Bakeries</td>\n",
       "      <td>Closed Now</td>\n",
       "      <td>(323) 662-1587</td>\n",
       "      <td>$$</td>\n",
       "      <td>174</td>\n",
       "      <td>8.0</td>\n",
       "      <td>Amazing eclectic atmosphere! Excellent food. S...</td>\n",
       "      <td>Los Angeles</td>\n",
       "      <td>CA</td>\n",
       "      <td>90027</td>\n",
       "      <td>4</td>\n",
       "      <td>Mid-range</td>\n",
       "      <td>0.000</td>\n",
       "      <td>0.652</td>\n",
       "      <td>0.348</td>\n",
       "      <td>0.8622</td>\n",
       "    </tr>\n",
       "    <tr>\n",
       "      <th>...</th>\n",
       "      <td>...</td>\n",
       "      <td>...</td>\n",
       "      <td>...</td>\n",
       "      <td>...</td>\n",
       "      <td>...</td>\n",
       "      <td>...</td>\n",
       "      <td>...</td>\n",
       "      <td>...</td>\n",
       "      <td>...</td>\n",
       "      <td>...</td>\n",
       "      <td>...</td>\n",
       "      <td>...</td>\n",
       "      <td>...</td>\n",
       "      <td>...</td>\n",
       "      <td>...</td>\n",
       "      <td>...</td>\n",
       "      <td>...</td>\n",
       "      <td>...</td>\n",
       "    </tr>\n",
       "    <tr>\n",
       "      <th>1615</th>\n",
       "      <td>Klat</td>\n",
       "      <td>Los Angeles, CA 90005</td>\n",
       "      <td>Coffee &amp; Espresso Restaurants</td>\n",
       "      <td>Closed Now</td>\n",
       "      <td>(213) 674-7776</td>\n",
       "      <td>$$</td>\n",
       "      <td>0</td>\n",
       "      <td>0.0</td>\n",
       "      <td>My first experience at Klat was great. My frie...</td>\n",
       "      <td>Los Angeles</td>\n",
       "      <td>CA</td>\n",
       "      <td>90005</td>\n",
       "      <td>0</td>\n",
       "      <td>Mid-range</td>\n",
       "      <td>0.075</td>\n",
       "      <td>0.769</td>\n",
       "      <td>0.156</td>\n",
       "      <td>0.3400</td>\n",
       "    </tr>\n",
       "    <tr>\n",
       "      <th>1616</th>\n",
       "      <td>Cafe De Leche</td>\n",
       "      <td>Los Angeles, CA 90042</td>\n",
       "      <td>Coffee &amp; Espresso Restaurants</td>\n",
       "      <td>Closed Now</td>\n",
       "      <td>(323) 551-6828</td>\n",
       "      <td>$</td>\n",
       "      <td>13</td>\n",
       "      <td>7.5</td>\n",
       "      <td>Nice Vibe, interesting coffee options includin...</td>\n",
       "      <td>Los Angeles</td>\n",
       "      <td>CA</td>\n",
       "      <td>90042</td>\n",
       "      <td>4</td>\n",
       "      <td>Cheap Eats</td>\n",
       "      <td>0.069</td>\n",
       "      <td>0.603</td>\n",
       "      <td>0.328</td>\n",
       "      <td>0.7184</td>\n",
       "    </tr>\n",
       "    <tr>\n",
       "      <th>1617</th>\n",
       "      <td>Caffe Bene</td>\n",
       "      <td>Los Angeles, CA 90010</td>\n",
       "      <td>Sandwich Shops</td>\n",
       "      <td>Closed Now</td>\n",
       "      <td>(213) 384-3713</td>\n",
       "      <td>$</td>\n",
       "      <td>0</td>\n",
       "      <td>6.6</td>\n",
       "      <td>Caffe Bene is a great place for hanging out wi...</td>\n",
       "      <td>Los Angeles</td>\n",
       "      <td>CA</td>\n",
       "      <td>90010</td>\n",
       "      <td>3</td>\n",
       "      <td>Cheap Eats</td>\n",
       "      <td>0.000</td>\n",
       "      <td>0.618</td>\n",
       "      <td>0.382</td>\n",
       "      <td>0.9186</td>\n",
       "    </tr>\n",
       "    <tr>\n",
       "      <th>1618</th>\n",
       "      <td>Caffe Vita</td>\n",
       "      <td>Los Angeles, CA 90027</td>\n",
       "      <td>Cafeterias</td>\n",
       "      <td>Closed Now</td>\n",
       "      <td>(323) 663-6340</td>\n",
       "      <td>$$</td>\n",
       "      <td>3</td>\n",
       "      <td>0.0</td>\n",
       "      <td>They have the best organic food in Culver City...</td>\n",
       "      <td>Los Angeles</td>\n",
       "      <td>CA</td>\n",
       "      <td>90027</td>\n",
       "      <td>0</td>\n",
       "      <td>Mid-range</td>\n",
       "      <td>0.000</td>\n",
       "      <td>0.588</td>\n",
       "      <td>0.412</td>\n",
       "      <td>0.9402</td>\n",
       "    </tr>\n",
       "    <tr>\n",
       "      <th>1619</th>\n",
       "      <td>Verve Coffee Roasters</td>\n",
       "      <td>Los Angeles, CA 90014</td>\n",
       "      <td>Coffee &amp; Espresso Restaurants</td>\n",
       "      <td>Closed Now</td>\n",
       "      <td>(213) 455-5991</td>\n",
       "      <td>-</td>\n",
       "      <td>6</td>\n",
       "      <td>9.1</td>\n",
       "      <td>I've been here a few times and each time the e...</td>\n",
       "      <td>Los Angeles</td>\n",
       "      <td>CA</td>\n",
       "      <td>90014</td>\n",
       "      <td>5</td>\n",
       "      <td>Not categorized</td>\n",
       "      <td>0.000</td>\n",
       "      <td>0.838</td>\n",
       "      <td>0.162</td>\n",
       "      <td>0.5628</td>\n",
       "    </tr>\n",
       "  </tbody>\n",
       "</table>\n",
       "<p>1620 rows × 18 columns</p>\n",
       "</div>"
      ],
      "text/plain": [
       "                         address               location  \\\n",
       "0                   Swork Coffee  Los Angeles, CA 90041   \n",
       "1          Groundwork Coffee Co.  Los Angeles, CA 90028   \n",
       "2      Primera Taza Coffee House  Los Angeles, CA 90033   \n",
       "3     The Coffee Bean & Tea Leaf  Los Angeles, CA 90046   \n",
       "4                 Figaro Bistrot  Los Angeles, CA 90027   \n",
       "...                          ...                    ...   \n",
       "1615                        Klat  Los Angeles, CA 90005   \n",
       "1616               Cafe De Leche  Los Angeles, CA 90042   \n",
       "1617                  Caffe Bene  Los Angeles, CA 90010   \n",
       "1618                  Caffe Vita  Los Angeles, CA 90027   \n",
       "1619       Verve Coffee Roasters  Los Angeles, CA 90014   \n",
       "\n",
       "                           category  open_close           phone price range  \\\n",
       "0     Coffee & Espresso Restaurants  Closed Now  (323) 258-5600          $$   \n",
       "1     Coffee & Espresso Restaurants  Closed Now  (323) 871-0143           $   \n",
       "2     Coffee & Espresso Restaurants  Closed Now  (323) 780-3923           $   \n",
       "3     Coffee & Espresso Restaurants  Closed Now  (323) 851-8392           $   \n",
       "4                          Bakeries  Closed Now  (323) 662-1587          $$   \n",
       "...                             ...         ...             ...         ...   \n",
       "1615  Coffee & Espresso Restaurants  Closed Now  (213) 674-7776          $$   \n",
       "1616  Coffee & Espresso Restaurants  Closed Now  (323) 551-6828           $   \n",
       "1617                 Sandwich Shops  Closed Now  (213) 384-3713           $   \n",
       "1618                     Cafeterias  Closed Now  (323) 663-6340          $$   \n",
       "1619  Coffee & Espresso Restaurants  Closed Now  (213) 455-5991           -   \n",
       "\n",
       "      reviews  rating                                             review  \\\n",
       "0          11     7.3                      Very nice coffees and service   \n",
       "1          20     7.6  This is one of the best coffee places in the c...   \n",
       "2           0     0.0  I am about half way through tasting EVERYTHING...   \n",
       "3          15     0.0  Great place, decent prices, good parking. I en...   \n",
       "4         174     8.0  Amazing eclectic atmosphere! Excellent food. S...   \n",
       "...       ...     ...                                                ...   \n",
       "1615        0     0.0  My first experience at Klat was great. My frie...   \n",
       "1616       13     7.5  Nice Vibe, interesting coffee options includin...   \n",
       "1617        0     6.6  Caffe Bene is a great place for hanging out wi...   \n",
       "1618        3     0.0  They have the best organic food in Culver City...   \n",
       "1619        6     9.1  I've been here a few times and each time the e...   \n",
       "\n",
       "             city state postal  stars rating categorical prices    neg    neu  \\\n",
       "0     Los Angeles    CA  90041             4          Mid-range  0.000  0.564   \n",
       "1     Los Angeles    CA  90028             4         Cheap Eats  0.000  0.714   \n",
       "2     Los Angeles    CA  90033             0         Cheap Eats  0.147  0.625   \n",
       "3     Los Angeles    CA  90046             0         Cheap Eats  0.000  0.374   \n",
       "4     Los Angeles    CA  90027             4          Mid-range  0.000  0.652   \n",
       "...           ...   ...    ...           ...                ...    ...    ...   \n",
       "1615  Los Angeles    CA  90005             0          Mid-range  0.075  0.769   \n",
       "1616  Los Angeles    CA  90042             4         Cheap Eats  0.069  0.603   \n",
       "1617  Los Angeles    CA  90010             3         Cheap Eats  0.000  0.618   \n",
       "1618  Los Angeles    CA  90027             0          Mid-range  0.000  0.588   \n",
       "1619  Los Angeles    CA  90014             5    Not categorized  0.000  0.838   \n",
       "\n",
       "        pos  compound  \n",
       "0     0.436    0.4754  \n",
       "1     0.286    0.8481  \n",
       "2     0.228    0.5550  \n",
       "3     0.626    0.9246  \n",
       "4     0.348    0.8622  \n",
       "...     ...       ...  \n",
       "1615  0.156    0.3400  \n",
       "1616  0.328    0.7184  \n",
       "1617  0.382    0.9186  \n",
       "1618  0.412    0.9402  \n",
       "1619  0.162    0.5628  \n",
       "\n",
       "[1620 rows x 18 columns]"
      ]
     },
     "execution_count": 69,
     "metadata": {},
     "output_type": "execute_result"
    }
   ],
   "source": [
    "vaders = pd.DataFrame(res).T\n",
    "vaders = vaders.reset_index().rename(columns = {\"index\":\"address\"})\n",
    "df = df.merge(vaders, how = \"left\")\n",
    "df"
   ]
  },
  {
   "cell_type": "markdown",
   "id": "0c11cf11",
   "metadata": {},
   "source": [
    "### plot vader results\n"
   ]
  },
  {
   "cell_type": "code",
   "execution_count": 71,
   "id": "57e00ac1",
   "metadata": {},
   "outputs": [
    {
     "data": {
      "image/png": "[encoded data removed]",
      "text/plain": [
       "<Figure size 640x480 with 1 Axes>"
      ]
     },
     "metadata": {},
     "output_type": "display_data"
    }
   ],
   "source": [
    "#one star reviews have lower compound sentiment than 5 stars reviews\n",
    "ax = sns.barplot(data = df, x = \"stars rating\", y = \"compound\")\n",
    "ax.set_title(\"compound score\")\n",
    "plt.show()"
   ]
  },
  {
   "cell_type": "code",
   "execution_count": 72,
   "id": "5f7265f3",
   "metadata": {},
   "outputs": [
    {
     "data": {
      "image/png": "[encoded data removed]",
      "text/plain": [
       "<Figure size 1200x400 with 3 Axes>"
      ]
     },
     "metadata": {},
     "output_type": "display_data"
    }
   ],
   "source": [
    "fig, ax = plt.subplots(1, 3, figsize = (12,4))\n",
    "sns.barplot(data = df, x = \"stars rating\", y = \"pos\", ax = ax[0])\n",
    "sns.barplot(data = df, x = \"stars rating\", y = \"neu\", ax = ax[1])\n",
    "sns.barplot(data = df, x = \"stars rating\", y = \"neg\", ax = ax[2])\n",
    "ax[0].set_title(\"Positive\")\n",
    "ax[1].set_title(\"Neutral\")\n",
    "ax[2].set_title(\"Negative\")\n",
    "plt.tight_layout()\n",
    "plt.show()"
   ]
  },
  {
   "cell_type": "code",
   "execution_count": 73,
   "id": "782b95e6",
   "metadata": {},
   "outputs": [
    {
     "data": {
      "application/vnd.jupyter.widget-view+json": {
       "model_id": "9c67119dad714553be97731a487571db",
       "version_major": 2,
       "version_minor": 0
      },
      "text/plain": [
       "  0%|          | 0/1620 [00:00<?, ?it/s]"
      ]
     },
     "metadata": {},
     "output_type": "display_data"
    }
   ],
   "source": [
    "res = {}\n",
    "for i, row in tqdm(df.iterrows(), total = len(df)):\n",
    "    text = row[\"review\"]\n",
    "    myid = row[\"address\"]\n",
    "    res[myid] = sid.polarity_scores(text)"
   ]
  },
  {
   "cell_type": "code",
   "execution_count": 76,
   "id": "6a59c741",
   "metadata": {},
   "outputs": [
    {
     "data": {
      "image/png": "[encoded data removed]",
      "text/plain": [
       "<Figure size 640x480 with 1 Axes>"
      ]
     },
     "metadata": {},
     "output_type": "display_data"
    }
   ],
   "source": [
    "#the priciers and finer, the better the rating \n",
    "sns.boxplot(x=\"categorical prices\", y=\"rating\", data=df)\n",
    "plt.show()"
   ]
  },
  {
   "cell_type": "code",
   "execution_count": 77,
   "id": "8e809693",
   "metadata": {},
   "outputs": [
    {
     "data": {
      "text/plain": [
       "city\n",
       "Los Angeles    1620\n",
       "dtype: int64"
      ]
     },
     "execution_count": 77,
     "metadata": {},
     "output_type": "execute_result"
    }
   ],
   "source": [
    "counts = df.groupby('city')[[\"city\"]].value_counts()\n",
    "counts.sort_values(ascending=False, inplace=True)\n",
    "counts"
   ]
  },
  {
   "cell_type": "code",
   "execution_count": 78,
   "id": "70ef393a",
   "metadata": {},
   "outputs": [
    {
     "data": {
      "image/png": "[encoded data removed]",
      "text/plain": [
       "<Figure size 640x480 with 1 Axes>"
      ]
     },
     "metadata": {},
     "output_type": "display_data"
    }
   ],
   "source": [
    "# plot the city counts using barplot\n",
    "sns.barplot(x = counts.head(10).values, y = counts.head(10).index, orient = \"h\")\n",
    "\n",
    "# add labels and title\n",
    "plt.xlabel('City')\n",
    "plt.ylabel('Number of Occurrences')\n",
    "plt.title('Most Common Cities')\n",
    "\n",
    "# rotate x-axis labels for better readability\n",
    "plt.xticks(rotation=90)\n",
    "\n",
    "# show the plot\n",
    "plt.show()"
   ]
  },
  {
   "cell_type": "code",
   "execution_count": 79,
   "id": "823d537a",
   "metadata": {},
   "outputs": [],
   "source": [
    "#pip install --upgrade scikit-learn\n",
    "from sklearn.decomposition import PCA"
   ]
  },
  {
   "cell_type": "code",
   "execution_count": 80,
   "id": "c9402076",
   "metadata": {},
   "outputs": [
    {
     "data": {
      "image/png": "[encoded data removed]",
      "text/plain": [
       "<Figure size 640x480 with 1 Axes>"
      ]
     },
     "metadata": {},
     "output_type": "display_data"
    }
   ],
   "source": [
    "# Extract the 'compound' and 'rating' columns\n",
    "X = df[['compound', 'compound']].values\n",
    "\n",
    "# Perform PCA on the data\n",
    "pca = PCA(n_components=2)\n",
    "X_pca = pca.fit_transform(X)\n",
    "\n",
    "# Plot the results\n",
    "plt.scatter(X_pca[:, 0], X_pca[:, 1])\n",
    "plt.xlabel(\"PCA1\")\n",
    "plt.ylabel(\"PCA2\")\n",
    "plt.show()\n"
   ]
  },
  {
   "cell_type": "code",
   "execution_count": 81,
   "id": "61dc2a9c",
   "metadata": {},
   "outputs": [
    {
     "data": {
      "text/plain": [
       "<AxesSubplot:xlabel='categorical prices', ylabel='rating'>"
      ]
     },
     "execution_count": 81,
     "metadata": {},
     "output_type": "execute_result"
    },
    {
     "data": {
      "image/png": "[encoded data removed]",
      "text/plain": [
       "<Figure size 640x480 with 1 Axes>"
      ]
     },
     "metadata": {},
     "output_type": "display_data"
    }
   ],
   "source": [
    "sns.violinplot(data = df, x = \"categorical prices\", y = \"rating\")"
   ]
  },
  {
   "cell_type": "code",
   "execution_count": 82,
   "id": "36dfc9ea",
   "metadata": {},
   "outputs": [
    {
     "data": {
      "image/png": "[encoded data removed]",
      "text/plain": [
       "<Figure size 640x480 with 1 Axes>"
      ]
     },
     "metadata": {},
     "output_type": "display_data"
    }
   ],
   "source": [
    "plt.scatter(df[\"rating\"], df['compound'])\n",
    "\n",
    "# Add labels and title to the plot\n",
    "plt.xlabel('Rating')\n",
    "plt.ylabel('Compound Score')\n",
    "plt.title('Relationship between Rating and Compound Score')\n",
    "\n",
    "# Show the plot\n",
    "plt.show()"
   ]
  },
  {
   "cell_type": "code",
   "execution_count": null,
   "id": "7ed86f8c",
   "metadata": {},
   "outputs": [],
   "source": []
  }
 ],
 "metadata": {
  "hide_input": false,
  "kernelspec": {
   "display_name": "Python 3 (ipykernel)",
   "language": "python",
   "name": "python3"
  },
  "language_info": {
   "codemirror_mode": {
    "name": "ipython",
    "version": 3
   },
   "file_extension": ".py",
   "mimetype": "text/x-python",
   "name": "python",
   "nbconvert_exporter": "python",
   "pygments_lexer": "ipython3",
   "version": "3.9.13"
  },
  "toc": {
   "base_numbering": 1,
   "nav_menu": {},
   "number_sections": true,
   "sideBar": true,
   "skip_h1_title": false,
   "title_cell": "Table of Contents",
   "title_sidebar": "Contents",
   "toc_cell": false,
   "toc_position": {},
   "toc_section_display": true,
   "toc_window_display": false
  },
  "vscode": {
   "interpreter": {
    "hash": "40d3a090f54c6569ab1632332b64b2c03c39dcf918b08424e98f38b5ae0af88f"
   }
  }
 },
 "nbformat": 4,
 "nbformat_minor": 5
}
